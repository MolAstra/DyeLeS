{
 "cells": [
  {
   "cell_type": "code",
   "execution_count": 1,
   "metadata": {},
   "outputs": [],
   "source": [
    "import pickle\n",
    "import numpy as np\n",
    "import tmap as tm\n",
    "import pandas as pd\n",
    "import scipy.stats as ss\n",
    "from rdkit.Chem import AllChem\n",
    "from mhfp.encoder import MHFPEncoder\n",
    "from faerun import Faerun\n",
    "from collections import Counter\n",
    "from matplotlib.colors import ListedColormap\n",
    "from matplotlib import pyplot as plt\n",
    "from pathlib import Path\n",
    "from loguru import logger"
   ]
  },
  {
   "cell_type": "code",
   "execution_count": 2,
   "metadata": {},
   "outputs": [],
   "source": [
    "data_dir = Path(\"../data/processed\")\n",
    "dyes_path = data_dir / \"dyes.csv\"\n",
    "coconut_path = data_dir / \"coconut.csv\"\n",
    "\n",
    "dyes_df = pd.read_csv(dyes_path)\n",
    "dyes_df[\"label\"] = \"dyes\"\n",
    "coconut_df = pd.read_csv(coconut_path)\n",
    "coconut_df[\"label\"] = \"non-dyes\""
   ]
  },
  {
   "cell_type": "code",
   "execution_count": 3,
   "metadata": {},
   "outputs": [
    {
     "name": "stdout",
     "output_type": "stream",
     "text": [
      "dyes: 26255, coconut: 583991\n",
      "total after sampling: 52510\n"
     ]
    }
   ],
   "source": [
    "print(f\"dyes: {len(dyes_df)}, coconut: {len(coconut_df)}\")\n",
    "coconut_df = coconut_df.sample(n=len(dyes_df), random_state=42)\n",
    "df = pd.concat([dyes_df, coconut_df], ignore_index=True).reset_index(drop=True)\n",
    "print(f\"total after sampling: {len(df)}\")"
   ]
  },
  {
   "cell_type": "code",
   "execution_count": 4,
   "metadata": {},
   "outputs": [
    {
     "name": "stdout",
     "output_type": "stream",
     "text": [
      "total after filtering: 52437\n"
     ]
    }
   ],
   "source": [
    "df = df[df[\"MW\"] > 100]\n",
    "print(f\"total after filtering: {len(df)}\")"
   ]
  },
  {
   "cell_type": "code",
   "execution_count": 5,
   "metadata": {},
   "outputs": [],
   "source": [
    "enc = MHFPEncoder(1024)\n",
    "lf = tm.LSHForest(1024, 64)\n",
    "\n",
    "fps = []\n",
    "hac = []\n",
    "c_frac = []\n",
    "ring_atom_frac = []\n",
    "largest_ring_size = []"
   ]
  },
  {
   "cell_type": "code",
   "execution_count": 6,
   "metadata": {},
   "outputs": [
    {
     "name": "stdout",
     "output_type": "stream",
     "text": [
      "1.907050365200145\n",
      "3.81410073040029\n",
      "5.721151095600435\n",
      "7.62820146080058\n",
      "9.535251826000724\n",
      "11.44230219120087\n",
      "13.349352556401014\n",
      "15.25640292160116\n",
      "17.163453286801303\n",
      "19.07050365200145\n",
      "20.977554017201594\n",
      "22.88460438240174\n",
      "24.791654747601886\n",
      "26.698705112802028\n",
      "28.605755478002173\n",
      "30.51280584320232\n",
      "32.419856208402464\n",
      "34.326906573602606\n",
      "36.233956938802756\n",
      "38.1410073040029\n",
      "40.04805766920305\n",
      "41.95510803440319\n",
      "43.86215839960333\n",
      "45.76920876480348\n",
      "47.67625913000362\n",
      "49.58330949520377\n",
      "51.49035986040391\n",
      "53.397410225604055\n",
      "55.304460590804204\n",
      "57.211510956004346\n",
      "59.118561321204496\n",
      "61.02561168640464\n",
      "62.93266205160478\n",
      "64.83971241680493\n"
     ]
    },
    {
     "name": "stderr",
     "output_type": "stream",
     "text": [
      "/home/water/miniforge3/envs/mix/lib/python3.9/site-packages/mhfp/encoder.py:297: UserWarning: The length of the shingling is 0, which results in an empty set and an all zero folded fingerprint.\n",
      "  warnings.warn(\"The length of the shingling is 0, which results in an empty set and an all zero folded fingerprint.\")\n"
     ]
    },
    {
     "name": "stdout",
     "output_type": "stream",
     "text": [
      "66.74676278200508\n",
      "68.65381314720521\n",
      "70.56086351240536\n",
      "72.46791387760551\n",
      "74.37496424280565\n",
      "76.2820146080058\n",
      "78.18906497320594\n",
      "80.0961153384061\n",
      "82.00316570360623\n",
      "83.91021606880638\n",
      "85.81726643400653\n",
      "87.72431679920666\n",
      "89.63136716440681\n",
      "91.53841752960696\n",
      "93.4454678948071\n",
      "95.35251826000724\n",
      "97.2595686252074\n",
      "99.16661899040754\n"
     ]
    }
   ],
   "source": [
    "for i, row in df.iterrows():\n",
    "    if i != 0 and i % 1000 == 0:\n",
    "        print(100 * i / len(df))\n",
    "    mol = AllChem.MolFromSmiles(row[\"smiles\"])\n",
    "    atoms = mol.GetAtoms()\n",
    "    size = mol.GetNumHeavyAtoms()\n",
    "    n_c = 0\n",
    "    n_ring_atoms = 0\n",
    "    for atom in atoms:\n",
    "        if atom.IsInRing():\n",
    "            n_ring_atoms += 1\n",
    "        if atom.GetSymbol().lower() == \"c\":\n",
    "            n_c += 1\n",
    "\n",
    "    c_frac.append(n_c / size)\n",
    "    ring_atom_frac.append(n_ring_atoms / size)\n",
    "    sssr = AllChem.GetSymmSSSR(mol)\n",
    "    if len(sssr) > 0:\n",
    "        largest_ring_size.append(max([len(s) for s in sssr]))\n",
    "    else:\n",
    "        largest_ring_size.append(0)\n",
    "    hac.append(size)\n",
    "    fps.append(tm.VectorUint(enc.encode_mol(mol)))"
   ]
  },
  {
   "cell_type": "code",
   "execution_count": 7,
   "metadata": {},
   "outputs": [],
   "source": [
    "# 添加指纹并构建索引\n",
    "lf.batch_add(fps)\n",
    "lf.index()\n",
    "\n",
    "# 设置缓存路径\n",
    "tmp_dir = Path(\"../tmp\")\n",
    "tmp_dir.mkdir(parents=True, exist_ok=True)  # 确保目录存在\n",
    "cache_path = tmp_dir / \"props.pickle\"\n",
    "lf_path = tmp_dir / \"lf.dat\"\n",
    "force_write = True\n",
    "\n",
    "if not cache_path.exists() or force_write:\n",
    "    # 保存属性数据\n",
    "    with open(cache_path, \"wb\") as f:\n",
    "        pickle.dump(\n",
    "            (hac, c_frac, ring_atom_frac, largest_ring_size),\n",
    "            f,\n",
    "            protocol=pickle.HIGHEST_PROTOCOL,\n",
    "        )\n",
    "    lf.store(str(lf_path))\n",
    "else:\n",
    "    # 恢复索引和属性数据\n",
    "    lf.restore(str(lf_path))\n",
    "    with open(cache_path, \"rb\") as f:\n",
    "        hac, c_frac, ring_atom_frac, largest_ring_size = pickle.load(f)"
   ]
  },
  {
   "cell_type": "code",
   "execution_count": 8,
   "metadata": {},
   "outputs": [],
   "source": [
    "c_frak_ranked = ss.rankdata(np.array(c_frac) / max(c_frac)) / len(c_frac)\n",
    "cfg = tm.LayoutConfiguration()\n",
    "cfg.node_size = 1 / 26\n",
    "cfg.mmm_repeats = 2\n",
    "cfg.sl_extra_scaling_steps = 5\n",
    "cfg.k = 20\n",
    "cfg.sl_scaling_type = tm.RelativeToAvgLength\n",
    "x, y, s, t, _ = tm.layout_from_lsh_forest(lf, cfg)"
   ]
  },
  {
   "cell_type": "code",
   "execution_count": 9,
   "metadata": {},
   "outputs": [],
   "source": [
    "type_labels, type_data = Faerun.create_categories(df[\"label\"])"
   ]
  },
  {
   "cell_type": "code",
   "execution_count": 10,
   "metadata": {},
   "outputs": [
    {
     "name": "stderr",
     "output_type": "stream",
     "text": [
      "/tmp/ipykernel_267508/3219035505.py:1: MatplotlibDeprecationWarning: The get_cmap function was deprecated in Matplotlib 3.7 and will be removed in 3.11. Use ``matplotlib.colormaps[name]`` or ``matplotlib.colormaps.get_cmap()`` or ``pyplot.get_cmap()`` instead.\n",
      "  tab_10 = plt.cm.get_cmap(\"tab10\")\n"
     ]
    }
   ],
   "source": [
    "tab_10 = plt.cm.get_cmap(\"tab10\")\n",
    "colors = [i for i in tab_10.colors]\n",
    "colors[7] = (0.17, 0.24, 0.31)\n",
    "tab_10.colors = tuple(colors)"
   ]
  },
  {
   "cell_type": "code",
   "execution_count": 11,
   "metadata": {},
   "outputs": [],
   "source": [
    "f = Faerun(view=\"front\", coords=False)\n",
    "f.add_scatter(\n",
    "    \"dye_atlas\",\n",
    "    {\n",
    "        \"x\": x,\n",
    "        \"y\": y,\n",
    "        \"c\": [\n",
    "            type_data,\n",
    "            hac,\n",
    "            c_frak_ranked,\n",
    "            ring_atom_frac,\n",
    "            largest_ring_size,\n",
    "        ],\n",
    "        \"labels\": df[\"smiles\"],\n",
    "    },\n",
    "    shader=\"smoothCircle\",\n",
    "    point_scale=2.0,\n",
    "    max_point_size=20,\n",
    "    legend_labels=[type_labels],\n",
    "    categorical=[True, False, False, False, False],\n",
    "    colormap=[tab_10, \"rainbow\", \"rainbow\", \"rainbow\", \"Blues\"],\n",
    "    series_title=[\n",
    "        \"Type\",\n",
    "        \"HAC\",\n",
    "        \"C Frac\",\n",
    "        \"Ring Atom Frac\",\n",
    "        \"Largest Ring Size\",\n",
    "    ],\n",
    "    has_legend=True,\n",
    ")"
   ]
  },
  {
   "cell_type": "code",
   "execution_count": 12,
   "metadata": {},
   "outputs": [
    {
     "data": {
      "text/html": [
       "\n",
       "        <iframe\n",
       "            width=\"100%\"\n",
       "            height=\"500\"\n",
       "            src=\"./index.html\"\n",
       "            frameborder=\"0\"\n",
       "            allowfullscreen\n",
       "            \n",
       "        ></iframe>\n",
       "        "
      ],
      "text/plain": [
       "<IPython.lib.display.IFrame at 0x7874495a2f10>"
      ]
     },
     "metadata": {},
     "output_type": "display_data"
    },
    {
     "data": {
      "text/html": [
       "<a href='./index.html' target='_blank'>./index.html</a><br>"
      ],
      "text/plain": [
       "/home/water/projects/DyeLeS/notebooks/index.html"
      ]
     },
     "metadata": {},
     "output_type": "display_data"
    }
   ],
   "source": [
    "f.add_tree(\"dye_atlas_tree\", {\"from\": s, \"to\": t}, point_helper=\"dye_atlas\")\n",
    "f.plot(template=\"smiles\")"
   ]
  },
  {
   "cell_type": "code",
   "execution_count": null,
   "metadata": {},
   "outputs": [],
   "source": []
  }
 ],
 "metadata": {
  "kernelspec": {
   "display_name": "mix",
   "language": "python",
   "name": "python3"
  },
  "language_info": {
   "codemirror_mode": {
    "name": "ipython",
    "version": 3
   },
   "file_extension": ".py",
   "mimetype": "text/x-python",
   "name": "python",
   "nbconvert_exporter": "python",
   "pygments_lexer": "ipython3",
   "version": "3.9.19"
  }
 },
 "nbformat": 4,
 "nbformat_minor": 2
}
