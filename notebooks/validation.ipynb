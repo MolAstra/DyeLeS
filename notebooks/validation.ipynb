{
 "cells": [
  {
   "cell_type": "code",
   "execution_count": 1,
   "metadata": {},
   "outputs": [
    {
     "name": "stderr",
     "output_type": "stream",
     "text": [
      "/home/water/miniforge3/envs/DyeLeS/lib/python3.10/site-packages/tqdm/auto.py:21: TqdmWarning: IProgress not found. Please update jupyter and ipywidgets. See https://ipywidgets.readthedocs.io/en/stable/user_install.html\n",
      "  from .autonotebook import tqdm as notebook_tqdm\n"
     ]
    }
   ],
   "source": [
    "from dyeles import DyeLeS\n",
    "from rdkit import Chem\n",
    "from pathlib import Path\n",
    "import pandas as pd"
   ]
  },
  {
   "cell_type": "code",
   "execution_count": 2,
   "metadata": {},
   "outputs": [],
   "source": [
    "data_dir = Path(\"../data\")\n",
    "\n",
    "coconut_df = pd.read_csv(data_dir / \"processed\" / \"coconut.csv\")\n",
    "dyes_df = pd.read_csv(data_dir / \"processed\" / \"dyes.csv\")\n",
    "zinc_df = pd.read_csv(data_dir / \"processed\" / \"zinc.csv\")"
   ]
  },
  {
   "cell_type": "code",
   "execution_count": 3,
   "metadata": {},
   "outputs": [],
   "source": [
    "def build_validation_set(pos_df, neg_df):\n",
    "    pos_df = pos_df[[\"smiles\"]]\n",
    "    neg_df = neg_df[[\"smiles\"]]\n",
    "    min_len = min(len(pos_df), len(neg_df))\n",
    "    pos_df = pos_df.sample(min_len, random_state=42)\n",
    "    neg_df = neg_df.sample(min_len, random_state=42)\n",
    "    pos_df[\"label\"] = 1\n",
    "    neg_df[\"label\"] = 0\n",
    "    return pd.concat([pos_df, neg_df])"
   ]
  },
  {
   "cell_type": "code",
   "execution_count": 6,
   "metadata": {},
   "outputs": [],
   "source": [
    "dyes_zinc_df = build_validation_set(dyes_df, zinc_df)\n",
    "dyes_coconut_df = build_validation_set(dyes_df, coconut_df)"
   ]
  },
  {
   "cell_type": "code",
   "execution_count": null,
   "metadata": {},
   "outputs": [],
   "source": [
    "scorer = DyeLeS()\n",
    "\n",
    "def plot_auc_roc(df):\n",
    "    y_true = df[\"smiles\"].to_list()\n",
    "    y_pred = scorer.score_batch(df[\"smiles\"])\n",
    "    fpr, tpr, thresholds = roc_curve(y_true, y_pred)\n",
    "    roc_auc = auc(fpr, tpr)\n",
    "    return roc_auc"
   ]
  }
 ],
 "metadata": {
  "kernelspec": {
   "display_name": "DyeLeS",
   "language": "python",
   "name": "python3"
  },
  "language_info": {
   "codemirror_mode": {
    "name": "ipython",
    "version": 3
   },
   "file_extension": ".py",
   "mimetype": "text/x-python",
   "name": "python",
   "nbconvert_exporter": "python",
   "pygments_lexer": "ipython3",
   "version": "3.10.17"
  }
 },
 "nbformat": 4,
 "nbformat_minor": 2
}
